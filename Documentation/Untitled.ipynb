{
 "cells": [
  {
   "cell_type": "code",
   "execution_count": 1,
   "id": "3d1c6845-ebd1-4aab-bd7b-58826272c389",
   "metadata": {
    "tags": []
   },
   "outputs": [],
   "source": [
    "%run stdPackages.ipynb # this imports a lot of useful packages \n",
    "import base"
   ]
  },
  {
   "cell_type": "code",
   "execution_count": 11,
   "id": "ca8c0f8c-f835-4bed-a56c-6a0624c4920f",
   "metadata": {
    "tags": []
   },
   "outputs": [],
   "source": [
    "#Define Variables for Consumers, producers etc. \n",
    "\n",
    "MWP  = pd.Series([10, 20], index = pd.Index(['Consumer 1','Consumer 2'], name = 'c'))\n",
    "D̄    = pd.Series([0.5, 0.5], index = pd.Index(['Consumer 1','Consumer 2'], name = 'c'))\n",
    "mc   = pd.Series([15, 5], index = pd.Index(['Conv. plant','Wind turbine'], name = 'id'))\n",
    "q_id = pd.Series([0.5, 0.5], index = pd.Index(['Conv. plant', 'Wind turbine'], name = 'id'))\n",
    "γ    = pd.Series([1, 1, 1, 0.5], index = pd.MultiIndex.from_tuples([('Conv. plant',1), ('Wind turbine',1),\n",
    "                                                                    ('Conv. plant',2), ('Wind turbine', 2)],\n",
    "                                                                   names = ['id','h']))\n",
    "q    = q_id * γ\n",
    "FOM = pd.Series([2, 3], index = pd.Index(['Conv. plant', 'Wind tubine'], name= 'id'))"
   ]
  },
  {
   "cell_type": "markdown",
   "id": "cb81f301-d18d-426a-b073-954568b8105c",
   "metadata": {},
   "source": [
    "In our model, we are solving for a couple of variables. x, e first  "
   ]
  },
  {
   "cell_type": "code",
   "execution_count": 3,
   "id": "60ce9c92-157c-4b3f-b1a6-dc36bd89e370",
   "metadata": {
    "tags": []
   },
   "outputs": [
    {
     "data": {
      "text/html": [
       "<div>\n",
       "<style scoped>\n",
       "    .dataframe tbody tr th:only-of-type {\n",
       "        vertical-align: middle;\n",
       "    }\n",
       "\n",
       "    .dataframe tbody tr th {\n",
       "        vertical-align: top;\n",
       "    }\n",
       "\n",
       "    .dataframe thead th {\n",
       "        text-align: right;\n",
       "    }\n",
       "</style>\n",
       "<table border=\"1\" class=\"dataframe\">\n",
       "  <thead>\n",
       "    <tr style=\"text-align: right;\">\n",
       "      <th></th>\n",
       "      <th>c</th>\n",
       "      <th>l</th>\n",
       "      <th>u</th>\n",
       "    </tr>\n",
       "  </thead>\n",
       "  <tbody>\n",
       "    <tr>\n",
       "      <th>0</th>\n",
       "      <td>15</td>\n",
       "      <td>0.0</td>\n",
       "      <td>0.50</td>\n",
       "    </tr>\n",
       "    <tr>\n",
       "      <th>1</th>\n",
       "      <td>5</td>\n",
       "      <td>0.0</td>\n",
       "      <td>0.50</td>\n",
       "    </tr>\n",
       "    <tr>\n",
       "      <th>2</th>\n",
       "      <td>15</td>\n",
       "      <td>0.0</td>\n",
       "      <td>0.50</td>\n",
       "    </tr>\n",
       "    <tr>\n",
       "      <th>3</th>\n",
       "      <td>5</td>\n",
       "      <td>0.0</td>\n",
       "      <td>0.25</td>\n",
       "    </tr>\n",
       "    <tr>\n",
       "      <th>4</th>\n",
       "      <td>-10</td>\n",
       "      <td>0.0</td>\n",
       "      <td>0.50</td>\n",
       "    </tr>\n",
       "    <tr>\n",
       "      <th>5</th>\n",
       "      <td>-20</td>\n",
       "      <td>0.0</td>\n",
       "      <td>0.50</td>\n",
       "    </tr>\n",
       "    <tr>\n",
       "      <th>6</th>\n",
       "      <td>-10</td>\n",
       "      <td>0.0</td>\n",
       "      <td>0.50</td>\n",
       "    </tr>\n",
       "    <tr>\n",
       "      <th>7</th>\n",
       "      <td>-20</td>\n",
       "      <td>0.0</td>\n",
       "      <td>0.50</td>\n",
       "    </tr>\n",
       "  </tbody>\n",
       "</table>\n",
       "</div>"
      ],
      "text/plain": [
       "    c    l     u\n",
       "0  15  0.0  0.50\n",
       "1   5  0.0  0.50\n",
       "2  15  0.0  0.50\n",
       "3   5  0.0  0.25\n",
       "4 -10  0.0  0.50\n",
       "5 -20  0.0  0.50\n",
       "6 -10  0.0  0.50\n",
       "7 -20  0.0  0.50"
      ]
     },
     "execution_count": 3,
     "metadata": {},
     "output_type": "execute_result"
    }
   ],
   "source": [
    "#Define stacks for optimisation\n",
    "c = np.hstack([mc, mc, -MWP, -MWP])\n",
    "l = np.zeros(8)\n",
    "u = np.hstack([q, D̄, D̄])\n",
    "pd.DataFrame({'c':c, 'l':l, 'u':u}) # show the vectors here"
   ]
  },
  {
   "cell_type": "code",
   "execution_count": 4,
   "id": "ed33eb21-9e41-4ae4-923b-40832ff8a254",
   "metadata": {
    "tags": []
   },
   "outputs": [],
   "source": [
    "#Create database to input data\n",
    "db = pyDbs.SimpleDB() # initialize empty database"
   ]
  },
  {
   "cell_type": "code",
   "execution_count": 6,
   "id": "f1c1cd22-8d74-4baf-9c8b-54a68e8ade72",
   "metadata": {
    "tags": []
   },
   "outputs": [],
   "source": [
    "#Data stuff here\n",
    "db['mc'] = mc\n",
    "db['D̄']  = D̄\n",
    "db['MWP']= MWP\n",
    "db['q']  = q"
   ]
  },
  {
   "cell_type": "code",
   "execution_count": 7,
   "id": "1c59abdd-9cea-49af-9718-20fa89c1e0e7",
   "metadata": {
    "tags": []
   },
   "outputs": [
    {
     "name": "stdout",
     "output_type": "stream",
     "text": [
      "Symbols registered in the database:  dict_keys(['mc', 'D̄', 'MWP', 'q'])\n",
      "Example symbol \"q\": \n",
      "\n",
      " id            h\n",
      "Conv. plant   1    0.50\n",
      "Wind turbine  1    0.50\n",
      "Conv. plant   2    0.50\n",
      "Wind turbine  2    0.25\n",
      "dtype: float64 \n",
      "\n",
      "Symbols including the new sets:  dict_keys(['mc', 'D̄', 'MWP', 'q', 'id', 'c', 'h'])\n",
      "Values in the \"id\" set:  Index(['Conv. plant', 'Wind turbine'], dtype='object', name='id')\n"
     ]
    }
   ],
   "source": [
    "#Debug database\n",
    "print('Symbols registered in the database: ', db.symbols.keys()) # The symbols in the database are stored as keys\n",
    "                                                                 # in the central dictionary, accessed by db.symbols\n",
    "print('Example symbol \"q\": \\n\\n', db['q'], '\\n')  # The values associated with a symbol can be viewed using a dictionary-style syntax\n",
    "pyDbs.readSets(db)  # This function adds the unique indices in each of the symbol series as separate symbols to the db\n",
    "print('Symbols including the new sets: ', db.symbols.keys())\n",
    "print('Values in the \"id\" set: ', db['id']) # Now we can access the index values using the same syntax"
   ]
  },
  {
   "cell_type": "code",
   "execution_count": 8,
   "id": "a602cef2-c317-451d-8a9f-b64405109be8",
   "metadata": {
    "tags": []
   },
   "outputs": [],
   "source": [
    "db.updateAlias(alias = [('h','h_constr')]) # define h_constr as a copy of the index 'h'."
   ]
  },
  {
   "cell_type": "code",
   "execution_count": 9,
   "id": "9667f699-c56d-4983-afea-0b9ce8f8dca9",
   "metadata": {
    "tags": []
   },
   "outputs": [
    {
     "data": {
      "text/plain": [
       "{'E': MultiIndex([( 'Conv. plant', 1),\n",
       "             ( 'Conv. plant', 2),\n",
       "             ('Wind turbine', 1),\n",
       "             ('Wind turbine', 2)],\n",
       "            names=['id', 'h']),\n",
       " 'D': MultiIndex([('Consumer 1', 1),\n",
       "             ('Consumer 1', 2),\n",
       "             ('Consumer 2', 1),\n",
       "             ('Consumer 2', 2)],\n",
       "            names=['c', 'h']),\n",
       " 'equilibrium': Int64Index([1, 2], dtype='int64', name='h_constr')}"
      ]
     },
     "execution_count": 9,
     "metadata": {},
     "output_type": "execute_result"
    }
   ],
   "source": [
    "globalDomains = {'E':   pd.MultiIndex.from_product([db['id'], db['h']]),\n",
    "                 'D': pd.MultiIndex.from_product([db['c'], db['h']]),\n",
    "                 'equilibrium':  db['h_constr']}\n",
    "globalDomains"
   ]
  },
  {
   "cell_type": "code",
   "execution_count": null,
   "id": "997a7a0b-b5e0-4575-9102-70c8651662f9",
   "metadata": {},
   "outputs": [],
   "source": []
  }
 ],
 "metadata": {
  "kernelspec": {
   "display_name": "Python 3 (ipykernel)",
   "language": "python",
   "name": "python3"
  },
  "language_info": {
   "codemirror_mode": {
    "name": "ipython",
    "version": 3
   },
   "file_extension": ".py",
   "mimetype": "text/x-python",
   "name": "python",
   "nbconvert_exporter": "python",
   "pygments_lexer": "ipython3",
   "version": "3.11.3"
  }
 },
 "nbformat": 4,
 "nbformat_minor": 5
}
